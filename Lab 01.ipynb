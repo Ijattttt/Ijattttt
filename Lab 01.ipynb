{
 "cells": [
  {
   "cell_type": "code",
   "execution_count": 1,
   "id": "classical-education",
   "metadata": {},
   "outputs": [],
   "source": [
    "import tensorflow as tf\n",
    "\n",
    "import pandas, warnings\n",
    "\n",
    "warnings.filterwarnings('ignore')"
   ]
  },
  {
   "cell_type": "code",
   "execution_count": 2,
   "id": "governing-boutique",
   "metadata": {},
   "outputs": [
    {
     "data": {
      "text/html": [
       "<div>\n",
       "<style scoped>\n",
       "    .dataframe tbody tr th:only-of-type {\n",
       "        vertical-align: middle;\n",
       "    }\n",
       "\n",
       "    .dataframe tbody tr th {\n",
       "        vertical-align: top;\n",
       "    }\n",
       "\n",
       "    .dataframe thead th {\n",
       "        text-align: right;\n",
       "    }\n",
       "</style>\n",
       "<table border=\"1\" class=\"dataframe\">\n",
       "  <thead>\n",
       "    <tr style=\"text-align: right;\">\n",
       "      <th></th>\n",
       "      <th>age</th>\n",
       "      <th>workclass</th>\n",
       "      <th>fnlwgt</th>\n",
       "      <th>education</th>\n",
       "      <th>education-num</th>\n",
       "      <th>marital-status</th>\n",
       "      <th>occupation</th>\n",
       "    </tr>\n",
       "  </thead>\n",
       "  <tbody>\n",
       "    <tr>\n",
       "      <th>0</th>\n",
       "      <td>39</td>\n",
       "      <td>State-gov</td>\n",
       "      <td>77516</td>\n",
       "      <td>Bachelors</td>\n",
       "      <td>13</td>\n",
       "      <td>Never-married</td>\n",
       "      <td>Adm-clerical</td>\n",
       "    </tr>\n",
       "    <tr>\n",
       "      <th>1</th>\n",
       "      <td>50</td>\n",
       "      <td>Self-emp-not-inc</td>\n",
       "      <td>83311</td>\n",
       "      <td>Bachelors</td>\n",
       "      <td>13</td>\n",
       "      <td>Married-civ-spouse</td>\n",
       "      <td>Exec-managerial</td>\n",
       "    </tr>\n",
       "    <tr>\n",
       "      <th>2</th>\n",
       "      <td>38</td>\n",
       "      <td>Private</td>\n",
       "      <td>215646</td>\n",
       "      <td>HS-grad</td>\n",
       "      <td>9</td>\n",
       "      <td>Divorced</td>\n",
       "      <td>Handlers-cleaners</td>\n",
       "    </tr>\n",
       "    <tr>\n",
       "      <th>3</th>\n",
       "      <td>53</td>\n",
       "      <td>Private</td>\n",
       "      <td>234721</td>\n",
       "      <td>11th</td>\n",
       "      <td>7</td>\n",
       "      <td>Married-civ-spouse</td>\n",
       "      <td>Handlers-cleaners</td>\n",
       "    </tr>\n",
       "    <tr>\n",
       "      <th>4</th>\n",
       "      <td>28</td>\n",
       "      <td>Private</td>\n",
       "      <td>338409</td>\n",
       "      <td>Bachelors</td>\n",
       "      <td>13</td>\n",
       "      <td>Married-civ-spouse</td>\n",
       "      <td>Prof-specialty</td>\n",
       "    </tr>\n",
       "  </tbody>\n",
       "</table>\n",
       "</div>"
      ],
      "text/plain": [
       "   age         workclass  fnlwgt  education  education-num  \\\n",
       "0   39         State-gov   77516  Bachelors             13   \n",
       "1   50  Self-emp-not-inc   83311  Bachelors             13   \n",
       "2   38           Private  215646    HS-grad              9   \n",
       "3   53           Private  234721       11th              7   \n",
       "4   28           Private  338409  Bachelors             13   \n",
       "\n",
       "       marital-status         occupation  \n",
       "0       Never-married       Adm-clerical  \n",
       "1  Married-civ-spouse    Exec-managerial  \n",
       "2            Divorced  Handlers-cleaners  \n",
       "3  Married-civ-spouse  Handlers-cleaners  \n",
       "4  Married-civ-spouse     Prof-specialty  "
      ]
     },
     "execution_count": 2,
     "metadata": {},
     "output_type": "execute_result"
    }
   ],
   "source": [
    "data = pandas.read_table('data/adult.data', sep=',', skipinitialspace=True)\n",
    "\n",
    "data.iloc[:5, :7]"
   ]
  },
  {
   "cell_type": "code",
   "execution_count": 3,
   "id": "other-audio",
   "metadata": {
    "scrolled": true
   },
   "outputs": [
    {
     "data": {
      "text/html": [
       "<div>\n",
       "<style scoped>\n",
       "    .dataframe tbody tr th:only-of-type {\n",
       "        vertical-align: middle;\n",
       "    }\n",
       "\n",
       "    .dataframe tbody tr th {\n",
       "        vertical-align: top;\n",
       "    }\n",
       "\n",
       "    .dataframe thead th {\n",
       "        text-align: right;\n",
       "    }\n",
       "</style>\n",
       "<table border=\"1\" class=\"dataframe\">\n",
       "  <thead>\n",
       "    <tr style=\"text-align: right;\">\n",
       "      <th></th>\n",
       "      <th>relationship</th>\n",
       "      <th>race</th>\n",
       "      <th>sex</th>\n",
       "      <th>capital-gain</th>\n",
       "      <th>capital-loss</th>\n",
       "      <th>hours-per-week</th>\n",
       "      <th>native-country</th>\n",
       "      <th>label</th>\n",
       "    </tr>\n",
       "  </thead>\n",
       "  <tbody>\n",
       "    <tr>\n",
       "      <th>0</th>\n",
       "      <td>Not-in-family</td>\n",
       "      <td>White</td>\n",
       "      <td>Male</td>\n",
       "      <td>2174</td>\n",
       "      <td>0</td>\n",
       "      <td>40</td>\n",
       "      <td>United-States</td>\n",
       "      <td>&lt;=50K</td>\n",
       "    </tr>\n",
       "    <tr>\n",
       "      <th>1</th>\n",
       "      <td>Husband</td>\n",
       "      <td>White</td>\n",
       "      <td>Male</td>\n",
       "      <td>0</td>\n",
       "      <td>0</td>\n",
       "      <td>13</td>\n",
       "      <td>United-States</td>\n",
       "      <td>&lt;=50K</td>\n",
       "    </tr>\n",
       "    <tr>\n",
       "      <th>2</th>\n",
       "      <td>Not-in-family</td>\n",
       "      <td>White</td>\n",
       "      <td>Male</td>\n",
       "      <td>0</td>\n",
       "      <td>0</td>\n",
       "      <td>40</td>\n",
       "      <td>United-States</td>\n",
       "      <td>&lt;=50K</td>\n",
       "    </tr>\n",
       "    <tr>\n",
       "      <th>3</th>\n",
       "      <td>Husband</td>\n",
       "      <td>Black</td>\n",
       "      <td>Male</td>\n",
       "      <td>0</td>\n",
       "      <td>0</td>\n",
       "      <td>40</td>\n",
       "      <td>United-States</td>\n",
       "      <td>&lt;=50K</td>\n",
       "    </tr>\n",
       "    <tr>\n",
       "      <th>4</th>\n",
       "      <td>Wife</td>\n",
       "      <td>Black</td>\n",
       "      <td>Female</td>\n",
       "      <td>0</td>\n",
       "      <td>0</td>\n",
       "      <td>40</td>\n",
       "      <td>Cuba</td>\n",
       "      <td>&lt;=50K</td>\n",
       "    </tr>\n",
       "  </tbody>\n",
       "</table>\n",
       "</div>"
      ],
      "text/plain": [
       "    relationship   race     sex  capital-gain  capital-loss  hours-per-week  \\\n",
       "0  Not-in-family  White    Male          2174             0              40   \n",
       "1        Husband  White    Male             0             0              13   \n",
       "2  Not-in-family  White    Male             0             0              40   \n",
       "3        Husband  Black    Male             0             0              40   \n",
       "4           Wife  Black  Female             0             0              40   \n",
       "\n",
       "  native-country  label  \n",
       "0  United-States  <=50K  \n",
       "1  United-States  <=50K  \n",
       "2  United-States  <=50K  \n",
       "3  United-States  <=50K  \n",
       "4           Cuba  <=50K  "
      ]
     },
     "execution_count": 3,
     "metadata": {},
     "output_type": "execute_result"
    }
   ],
   "source": [
    "data.iloc[:5, 7:]"
   ]
  },
  {
   "cell_type": "code",
   "execution_count": 4,
   "id": "dimensional-academy",
   "metadata": {},
   "outputs": [
    {
     "data": {
      "text/plain": [
       "0"
      ]
     },
     "execution_count": 4,
     "metadata": {},
     "output_type": "execute_result"
    }
   ],
   "source": [
    "null = data.isnull().sum()\n",
    "\n",
    "null.sum()"
   ]
  },
  {
   "cell_type": "code",
   "execution_count": 5,
   "id": "domestic-orbit",
   "metadata": {},
   "outputs": [],
   "source": [
    "from sklearn.model_selection import train_test_split\n",
    "\n",
    "train, test = train_test_split(data, test_size=0.2, shuffle=False)"
   ]
  },
  {
   "cell_type": "code",
   "execution_count": 6,
   "id": "another-recognition",
   "metadata": {},
   "outputs": [
    {
     "data": {
      "text/plain": [
       "6517"
      ]
     },
     "execution_count": 6,
     "metadata": {},
     "output_type": "execute_result"
    }
   ],
   "source": [
    "from util import add_extra_rows\n",
    "\n",
    "sample = add_extra_rows(test)\n",
    "\n",
    "sample.shape[0]"
   ]
  },
  {
   "cell_type": "markdown",
   "id": "fabulous-evaluation",
   "metadata": {},
   "source": [
    "Generate Train Statistics"
   ]
  },
  {
   "cell_type": "code",
   "execution_count": 7,
   "id": "opening-mayor",
   "metadata": {},
   "outputs": [],
   "source": [
    "from tensorflow_data_validation import generate_statistics_from_dataframe\n",
    "\n",
    "from tensorflow_data_validation import visualize_statistics\n",
    "\n",
    "train_stats = generate_statistics_from_dataframe(train)\n",
    "\n",
    "visualize_statistics(train_stats)"
   ]
  },
  {
   "cell_type": "code",
   "execution_count": 8,
   "id": "hearing-nerve",
   "metadata": {},
   "outputs": [],
   "source": [
    "test_stats = generate_statistics_from_dataframe(test)\n",
    "\n",
    "sample_stats = generate_statistics_from_dataframe(sample)"
   ]
  },
  {
   "cell_type": "markdown",
   "id": "competent-headset",
   "metadata": {},
   "source": [
    "Generate Schemas"
   ]
  },
  {
   "cell_type": "code",
   "execution_count": 9,
   "id": "fatal-clinton",
   "metadata": {},
   "outputs": [],
   "source": [
    "from tensorflow_data_validation import infer_schema, display_schema\n",
    "\n",
    "schemas = infer_schema(statistics=train_stats)\n",
    "\n",
    "display_schema(schemas)"
   ]
  },
  {
   "cell_type": "code",
   "execution_count": 10,
   "id": "legendary-steam",
   "metadata": {},
   "outputs": [],
   "source": [
    "statlist = {}\n",
    "\n",
    "statlist['rhs_statistics'] = train_stats; statlist['rhs_name'] = 'Train Stats'\n",
    "\n",
    "statlist['lhs_statistics'] = test_stats; statlist['lhs_name'] = 'Test Stats'\n",
    "\n",
    "visualize_statistics(**statlist)"
   ]
  },
  {
   "cell_type": "code",
   "execution_count": 11,
   "id": "suffering-cornell",
   "metadata": {},
   "outputs": [],
   "source": [
    "statlist = {}\n",
    "\n",
    "statlist['rhs_statistics'] = sample_stats; statlist['rhs_name'] = 'Sample Stats'\n",
    "\n",
    "statlist['lhs_statistics'] = test_stats; statlist['lhs_name'] = 'Test Stats'\n",
    "\n",
    "visualize_statistics(**statlist)"
   ]
  },
  {
   "cell_type": "code",
   "execution_count": 12,
   "id": "powered-steps",
   "metadata": {},
   "outputs": [],
   "source": [
    "sample = sample[(sample['age'] > 16) & (sample['age'] < 91)]\n",
    "\n",
    "sample = sample.dropna()"
   ]
  },
  {
   "cell_type": "code",
   "execution_count": 13,
   "id": "ready-justice",
   "metadata": {},
   "outputs": [],
   "source": [
    "sample_stats = generate_statistics_from_dataframe(sample)"
   ]
  },
  {
   "cell_type": "code",
   "execution_count": 14,
   "id": "brief-species",
   "metadata": {},
   "outputs": [],
   "source": [
    "statlist = {}\n",
    "\n",
    "statlist['rhs_statistics'] = sample_stats; statlist['rhs_name'] = 'Sample Stats'\n",
    "\n",
    "statlist['lhs_statistics'] = test_stats; statlist['lhs_name'] = 'Test Stats'\n",
    "\n",
    "visualize_statistics(**statlist)"
   ]
  },
  {
   "cell_type": "code",
   "execution_count": 15,
   "id": "timely-settle",
   "metadata": {},
   "outputs": [
    {
     "data": {
      "text/plain": [
       "0"
      ]
     },
     "execution_count": 15,
     "metadata": {},
     "output_type": "execute_result"
    }
   ],
   "source": [
    "from tensorflow_data_validation import validate_statistics, display_anomalies\n",
    "\n",
    "anomalies = validate_statistics(test_stats, schemas)\n",
    "\n",
    "len(anomalies.anomaly_info.items())"
   ]
  },
  {
   "cell_type": "code",
   "execution_count": 16,
   "id": "distinguished-fantasy",
   "metadata": {
    "scrolled": false
   },
   "outputs": [
    {
     "data": {
      "text/html": [
       "<div>\n",
       "<style scoped>\n",
       "    .dataframe tbody tr th:only-of-type {\n",
       "        vertical-align: middle;\n",
       "    }\n",
       "\n",
       "    .dataframe tbody tr th {\n",
       "        vertical-align: top;\n",
       "    }\n",
       "\n",
       "    .dataframe thead th {\n",
       "        text-align: right;\n",
       "    }\n",
       "</style>\n",
       "<table border=\"1\" class=\"dataframe\">\n",
       "  <thead>\n",
       "    <tr style=\"text-align: right;\">\n",
       "      <th></th>\n",
       "      <th>Anomaly short description</th>\n",
       "      <th>Anomaly long description</th>\n",
       "    </tr>\n",
       "    <tr>\n",
       "      <th>Feature name</th>\n",
       "      <th></th>\n",
       "      <th></th>\n",
       "    </tr>\n",
       "  </thead>\n",
       "  <tbody>\n",
       "    <tr>\n",
       "      <th>'race'</th>\n",
       "      <td>Unexpected string values</td>\n",
       "      <td>Examples contain values missing from the schema: Asian (&lt;1%).</td>\n",
       "    </tr>\n",
       "    <tr>\n",
       "      <th>'occupation'</th>\n",
       "      <td>Unexpected string values</td>\n",
       "      <td>Examples contain values missing from the schema: Gamer (&lt;1%).</td>\n",
       "    </tr>\n",
       "    <tr>\n",
       "      <th>'native-country'</th>\n",
       "      <td>Unexpected string values</td>\n",
       "      <td>Examples contain values missing from the schema: Mongolia (&lt;1%).</td>\n",
       "    </tr>\n",
       "  </tbody>\n",
       "</table>\n",
       "</div>"
      ],
      "text/plain": [
       "                 Anomaly short description  \\\n",
       "Feature name                                 \n",
       "'race'            Unexpected string values   \n",
       "'occupation'      Unexpected string values   \n",
       "'native-country'  Unexpected string values   \n",
       "\n",
       "                                                           Anomaly long description  \n",
       "Feature name                                                                         \n",
       "'race'            Examples contain values missing from the schema: Asian (<1%).      \n",
       "'occupation'      Examples contain values missing from the schema: Gamer (<1%).      \n",
       "'native-country'  Examples contain values missing from the schema: Mongolia (<1%).   "
      ]
     },
     "metadata": {},
     "output_type": "display_data"
    }
   ],
   "source": [
    "anomalies = validate_statistics(sample_stats, schemas)\n",
    "\n",
    "display_anomalies(anomalies)"
   ]
  },
  {
   "cell_type": "code",
   "execution_count": 17,
   "id": "genuine-atlanta",
   "metadata": {},
   "outputs": [],
   "source": [
    "from tensorflow_data_validation import get_feature, get_domain\n",
    "\n",
    "country_feature = get_feature(schemas, 'native-country')\n",
    "\n",
    "country_feature.distribution_constraints.min_domain_mass = 0.9"
   ]
  },
  {
   "cell_type": "code",
   "execution_count": 18,
   "id": "engaging-namibia",
   "metadata": {},
   "outputs": [
    {
     "data": {
      "text/plain": [
       "2"
      ]
     },
     "execution_count": 18,
     "metadata": {},
     "output_type": "execute_result"
    }
   ],
   "source": [
    "anomalies = validate_statistics(sample_stats, schemas)\n",
    "\n",
    "len(anomalies.anomaly_info.items())"
   ]
  },
  {
   "cell_type": "code",
   "execution_count": 19,
   "id": "bulgarian-developer",
   "metadata": {},
   "outputs": [],
   "source": [
    "occupation_feature = get_feature(schemas, 'occupation')\n",
    "\n",
    "occupation_feature.distribution_constraints.min_domain_mass = 0.9"
   ]
  },
  {
   "cell_type": "code",
   "execution_count": 20,
   "id": "public-tampa",
   "metadata": {},
   "outputs": [
    {
     "data": {
      "text/plain": [
       "1"
      ]
     },
     "execution_count": 20,
     "metadata": {},
     "output_type": "execute_result"
    }
   ],
   "source": [
    "anomalies = validate_statistics(sample_stats, schemas)\n",
    "\n",
    "len(anomalies.anomaly_info.items())"
   ]
  },
  {
   "cell_type": "code",
   "execution_count": 21,
   "id": "superior-webmaster",
   "metadata": {},
   "outputs": [
    {
     "data": {
      "text/plain": [
       "['Amer-Indian-Eskimo', 'Asian-Pac-Islander', 'Black', 'Other', 'White']"
      ]
     },
     "execution_count": 21,
     "metadata": {},
     "output_type": "execute_result"
    }
   ],
   "source": [
    "races = get_domain(schemas, 'race')\n",
    "\n",
    "races.value"
   ]
  },
  {
   "cell_type": "code",
   "execution_count": 22,
   "id": "technical-obligation",
   "metadata": {},
   "outputs": [
    {
     "data": {
      "text/plain": [
       "['Amer-Indian-Eskimo', 'Asian-Pac-Islander', 'Black', 'Other', 'White', 'Asian']"
      ]
     },
     "execution_count": 22,
     "metadata": {},
     "output_type": "execute_result"
    }
   ],
   "source": [
    "races.value.append('Asian')\n",
    "\n",
    "races.value"
   ]
  },
  {
   "cell_type": "code",
   "execution_count": 23,
   "id": "lesser-antigua",
   "metadata": {},
   "outputs": [
    {
     "data": {
      "text/plain": [
       "0"
      ]
     },
     "execution_count": 23,
     "metadata": {},
     "output_type": "execute_result"
    }
   ],
   "source": [
    "anomalies = validate_statistics(sample_stats, schemas)\n",
    "\n",
    "len(anomalies.anomaly_info.items())"
   ]
  },
  {
   "cell_type": "code",
   "execution_count": 24,
   "id": "alpha-nudist",
   "metadata": {},
   "outputs": [],
   "source": [
    "from tensorflow_data_validation import set_domain\n",
    "\n",
    "from tensorflow_metadata.proto.v0 import schema_pb2\n",
    "\n",
    "limit = schema_pb2.IntDomain(name='age', min=17, max=90)\n",
    "\n",
    "set_domain(schemas, 'age', limit)"
   ]
  },
  {
   "cell_type": "code",
   "execution_count": 25,
   "id": "minus-constant",
   "metadata": {},
   "outputs": [],
   "source": [
    "from tensorflow_data_validation.utils import slicing_util\n",
    "\n",
    "slices = slicing_util.get_feature_value_slicer(features={'age':[50, 60, 70, 80]})"
   ]
  },
  {
   "cell_type": "code",
   "execution_count": 26,
   "id": "tamil-toilet",
   "metadata": {},
   "outputs": [],
   "source": [
    "from tensorflow_data_validation import StatsOptions\n",
    "\n",
    "stats_options = StatsOptions(schema=schemas, slice_functions=[slices], infer_type_from_schema=True)"
   ]
  },
  {
   "cell_type": "code",
   "execution_count": null,
   "id": "decimal-starter",
   "metadata": {
    "scrolled": true
   },
   "outputs": [],
   "source": [
    "from tensorflow_data_validation import generate_statistics_from_csv\n",
    "\n",
    "raw_stats = generate_statistics_from_csv('data/adult.data', stats_options=stats_options)"
   ]
  },
  {
   "cell_type": "code",
   "execution_count": 28,
   "id": "democratic-paint",
   "metadata": {},
   "outputs": [
    {
     "data": {
      "text/plain": [
       "['All Examples', 'age_50', 'age_70', 'age_60', 'age_80']"
      ]
     },
     "execution_count": 28,
     "metadata": {},
     "output_type": "execute_result"
    }
   ],
   "source": [
    "[i.name for i in raw_stats.datasets]"
   ]
  },
  {
   "cell_type": "code",
   "execution_count": 29,
   "id": "quality-oxford",
   "metadata": {},
   "outputs": [
    {
     "data": {
      "text/plain": [
       "'age_50'"
      ]
     },
     "execution_count": 29,
     "metadata": {},
     "output_type": "execute_result"
    }
   ],
   "source": [
    "from tensorflow_metadata.proto.v0.statistics_pb2 import DatasetFeatureStatisticsList\n",
    "\n",
    "middle_stats_list = DatasetFeatureStatisticsList()\n",
    "\n",
    "middle_stats_list.datasets.extend([raw_stats.datasets[1]])\n",
    "\n",
    "middle_stats_list_name = raw_stats.datasets[1].name\n",
    "\n",
    "middle_stats_list_name"
   ]
  },
  {
   "cell_type": "code",
   "execution_count": 30,
   "id": "brazilian-charge",
   "metadata": {},
   "outputs": [],
   "source": [
    "visualize_statistics(middle_stats_list)"
   ]
  }
 ],
 "metadata": {
  "kernelspec": {
   "display_name": "Python 3",
   "language": "python",
   "name": "python3"
  },
  "language_info": {
   "codemirror_mode": {
    "name": "ipython",
    "version": 3
   },
   "file_extension": ".py",
   "mimetype": "text/x-python",
   "name": "python",
   "nbconvert_exporter": "python",
   "pygments_lexer": "ipython3",
   "version": "3.8.8"
  }
 },
 "nbformat": 4,
 "nbformat_minor": 5
}
